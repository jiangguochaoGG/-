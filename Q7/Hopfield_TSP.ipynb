{
 "cells": [
  {
   "cell_type": "code",
   "execution_count": 1,
   "metadata": {
    "collapsed": false
   },
   "outputs": [],
   "source": [
    "import numpy as np\n",
    "import matplotlib.pyplot as plt\n",
    "%matplotlib inline"
   ]
  },
  {
   "cell_type": "code",
   "execution_count": 3,
   "metadata": {
    "collapsed": true
   },
   "outputs": [],
   "source": [
    "N = 10 # 城市数量\n",
    "city = [\n",
    "    (0.4, 0.4439), \n",
    "    (0.2439, 0.1463),\n",
    "    (0.1707, 0.2293),\n",
    "    (0.2293, 0.761),\n",
    "    (0.5171, 0.9414),\n",
    "    (0.8732, 0.6536),\n",
    "    (0.6878, 0.5219),\n",
    "    (0.8488, 0.3609),\n",
    "    (0.6683, 0.2536),\n",
    "    (0.6195, 0.2634)\n",
    "] # 城市坐标\n",
    "D = np.zeros([N, N]) # 距离矩阵\n",
    "for i in range(N):\n",
    "    for j in range(N):\n",
    "        D[i][j] = np.sqrt((city[i][0]-city[j][0])**2+(city[i][1]-city[j][1])**2)"
   ]
  },
  {
   "cell_type": "code",
   "execution_count": 4,
   "metadata": {
    "collapsed": false
   },
   "outputs": [],
   "source": [
    "# 能量函数的超参数\n",
    "a = 500\n",
    "b = 500\n",
    "c = 1000\n",
    "d = 500\n",
    "alpha = 0.0001"
   ]
  },
  {
   "cell_type": "code",
   "execution_count": 5,
   "metadata": {
    "collapsed": false
   },
   "outputs": [],
   "source": [
    "def hopfield():\n",
    "    u0 = 0.02\n",
    "    ifend = 0\n",
    "    udao = np.zeros([N, N])\n",
    "    ctr = 0 # 迭代次数\n",
    "    while ifend == 0:\n",
    "        ctr += 1\n",
    "        # 初始化\n",
    "        v = np.random.rand(N, N)\n",
    "        u = np.ones([N, N])*(-u0*np.log(N-1)/2)\n",
    "        u += u*0.91\n",
    "        for _ in range(1000):\n",
    "            for vx in range(N):\n",
    "                for vi in range(N):\n",
    "                    j1, j2, j3, j4 = 0, 0, 0, 0\n",
    "                    # 求和1\n",
    "                    for j in range(N):\n",
    "                        if j != vi:\n",
    "                            j1 += v[vx, j]\n",
    "                    j1 *= -a\n",
    "                    # 求和2\n",
    "                    for y in range(N):\n",
    "                        if y != vx:\n",
    "                            j2 += v[y, vi]\n",
    "                    j2 *= -b\n",
    "                    # 求和3\n",
    "                    j3 = np.sum(v)\n",
    "                    j3 = -c*(j3-N)\n",
    "                    # 求和4\n",
    "                    for y in range(N):\n",
    "                        if y != vx:\n",
    "                            if vi == 0:\n",
    "                                j4 += D[vx, y]*(v[y, vi+1]+v[y, N-1])\n",
    "                            elif vi == N-1:\n",
    "                                j4 += D[vx, y]*(v[y, vi-1]+v[y, 0])\n",
    "                            else:\n",
    "                                j4 += D[vx, y]*(v[y, vi+1]+v[y, vi-1])\n",
    "                    j4 *= -d\n",
    "                    udao[vx, vi] = -u[vx, vi] + j1 + j2 + j3 + j4\n",
    "            # 更新u\n",
    "            u += alpha*udao\n",
    "            # 计算v\n",
    "            v = (1+np.tanh(u/u0))/2\n",
    "            # 使用0.7的阈值考察0与1\n",
    "            for vx in range(N):\n",
    "                for vi in range(N):\n",
    "                    if(v[vx, vi] < 0.7):\n",
    "                        v[vx, vi] = 0\n",
    "                    if(v[vx, vi] >= 0.7):\n",
    "                        v[vx, vi] = 1\n",
    "        # 解的合法性测试\n",
    "        t1, t2, t3 = 0, 0, 0\n",
    "        for vx in range(N):\n",
    "            for vi in range(N):\n",
    "                t1 += v[vx, vi]\n",
    "        for x in range(N):\n",
    "            for i in range(N-1):\n",
    "                for j in range(i+1, N):\n",
    "                    t2 += np.multiply(v[x, i], v[x, j])\n",
    "        for i in range(N):\n",
    "            for x in range(N-1):\n",
    "                for y in range(x+1, N):\n",
    "                    t3 += np.multiply(v[x, i], v[y, i])\n",
    "        if t1 == N and t2 == 0 and t3 == 0:\n",
    "            ifend = 1\n",
    "        else:\n",
    "            ifend = 0\n",
    "    return v, ctr\n",
    "\n",
    "def total_distance(v):\n",
    "    # 计算旅行序列的总距离\n",
    "    cityx = np.zeros([N+1])\n",
    "    cityy = np.zeros([N+1])\n",
    "    for j in range(N):\n",
    "        for i in range(N):\n",
    "            if v[i,j] == 1:\n",
    "                cityx[j] = city[i][0]\n",
    "                cityy[j] = city[i][1]\n",
    "\n",
    "    cityx[N] = cityx[0]\n",
    "    cityy[N] = cityy[0]\n",
    "    res = 0\n",
    "    for i in range(N-1):\n",
    "        res += np.sqrt((cityx[i]-cityx[i+1])**2+(cityy[i]-cityy[i+1])**2)\n",
    "    res += np.sqrt((cityx[N-1]-cityx[0])**2+(cityy[N-1]-cityy[0])**2)\n",
    "    return res, cityx, cityy"
   ]
  },
  {
   "cell_type": "code",
   "execution_count": 6,
   "metadata": {
    "collapsed": false
   },
   "outputs": [
    {
     "name": "stdout",
     "output_type": "stream",
     "text": [
      "[[1. 0. 0. 0. 0. 0. 0. 0. 0. 0.]\n",
      " [0. 0. 0. 0. 0. 0. 0. 0. 1. 0.]\n",
      " [0. 0. 0. 0. 0. 0. 0. 0. 0. 1.]\n",
      " [0. 1. 0. 0. 0. 0. 0. 0. 0. 0.]\n",
      " [0. 0. 1. 0. 0. 0. 0. 0. 0. 0.]\n",
      " [0. 0. 0. 1. 0. 0. 0. 0. 0. 0.]\n",
      " [0. 0. 0. 0. 1. 0. 0. 0. 0. 0.]\n",
      " [0. 0. 0. 0. 0. 1. 0. 0. 0. 0.]\n",
      " [0. 0. 0. 0. 0. 0. 1. 0. 0. 0.]\n",
      " [0. 0. 0. 0. 0. 0. 0. 1. 0. 0.]]\n"
     ]
    }
   ],
   "source": [
    "# 构造实际解的矩阵\n",
    "v_ideal = np.zeros([N,N])\n",
    "seq = [0, 3, 4, 5, 6, 7, 8, 9, 1, 2]\n",
    "j = 0\n",
    "for el in seq:\n",
    "    v_ideal[el, j] = 1\n",
    "    j += 1\n",
    "print(v_ideal)"
   ]
  },
  {
   "cell_type": "code",
   "execution_count": 8,
   "metadata": {
    "collapsed": false
   },
   "outputs": [
    {
     "name": "stdout",
     "output_type": "stream",
     "text": [
      "未求得最优解，执行步骤数为2，总距离为2.7693317173730323\n",
      "未求得最优解，执行步骤数为7，总距离为2.990124161239297\n",
      "未求得最优解，执行步骤数为2，总距离为3.2638594701979904\n",
      "未求得最优解，执行步骤数为13，总距离为3.3117269798364513\n",
      "未求得最优解，执行步骤数为1，总距离为3.252342723298946\n",
      "未求得最优解，执行步骤数为4，总距离为2.7693317173730323\n",
      "未求得最优解，执行步骤数为1，总距离为2.8392822261223336\n",
      "未求得最优解，执行步骤数为2，总距离为3.170283426841171\n",
      "未求得最优解，执行步骤数为1，总距离为2.8392822261223336\n",
      "未求得最优解，执行步骤数为19，总距离为3.062043714668075\n",
      "未求得最优解，执行步骤数为1，总距离为3.5071372966651646\n",
      "在12次迭代中求得最优解\n",
      "未求得最优解，执行步骤数为11，总距离为2.7517375757634683\n",
      "未求得最优解，执行步骤数为1，总距离为3.0691311427903414\n",
      "未求得最优解，执行步骤数为13，总距离为4.081190236820926\n",
      "未求得最优解，执行步骤数为2，总距离为3.0365751666168226\n",
      "未求得最优解，执行步骤数为4，总距离为2.9035375887464467\n",
      "在18次迭代中求得该TSP问题的最优解\n",
      "距离为： 2.6906706370094136\n"
     ]
    }
   ],
   "source": [
    "v = np.zeros([N,N])\n",
    "des_td = 2.6907\n",
    "ct = 0\n",
    "optimal_list = []\n",
    "while True:\n",
    "    ct += 1\n",
    "    v, steps = hopfield()\n",
    "    distance, _, _ = total_distance(v)\n",
    "    if np.array_equiv(v, v_ideal):\n",
    "        print(\"在{}次迭代中求得该TSP问题的最优解\".format(ct))\n",
    "        print(\"距离为：\", distance)\n",
    "        optimal_list.append(v)\n",
    "        break\n",
    "    elif distance <= des_td:\n",
    "        print(\"在{}次迭代中求得最优解\".format(ct))\n",
    "        optimal_list.append(v)\n",
    "    else:\n",
    "        print(\"未求得最优解，执行步骤数为{}，总距离为{}\".format(steps, distance))"
   ]
  },
  {
   "cell_type": "code",
   "execution_count": 23,
   "metadata": {
    "collapsed": false
   },
   "outputs": [],
   "source": [
    "def get_route(v):\n",
    "    # 生成旅行城市序列\n",
    "    route = \"\"\n",
    "    for j in range(v.shape[1]):\n",
    "        route += str(np.argmax(v[:, j])) + '->'\n",
    "    return route + str(np.argmax(v[:, 0]))\n",
    "print(get_route(v_ideal))"
   ]
  },
  {
   "cell_type": "code",
   "execution_count": 25,
   "metadata": {
    "collapsed": true
   },
   "outputs": [],
   "source": [
    "def annot_plot(N, city):\n",
    "    labels = np.arange(10)\n",
    "    cityx, cityy = [], []\n",
    "    for i in range(N):\n",
    "        cityx.append(city[i][0])\n",
    "        cityy.append(city[i][1])\n",
    "    for label, x, y in zip(labels, cityx, cityy):\n",
    "        plt.annotate(\n",
    "            label,\n",
    "            xy=(x, y), xytext=(-20, 20),\n",
    "            textcoords='offset points', ha='right', va='bottom',\n",
    "            bbox=dict(boxstyle='round,pad=0.5', fc='yellow', alpha=0.5),\n",
    "            arrowprops=dict(arrowstyle = '->', connectionstyle='arc3,rad=0')\n",
    "        )"
   ]
  },
  {
   "cell_type": "code",
   "execution_count": 28,
   "metadata": {
    "collapsed": false
   },
   "outputs": [
    {
     "data": {
      "image/png": "[encoded data removed]",
      "text/plain": [
       "<Figure size 640x480 with 1 Axes>"
      ]
     },
     "metadata": {},
     "output_type": "display_data"
    }
   ],
   "source": [
    "v = optimal_list[0]\n",
    "td, X, Y = total_distance(v)\n",
    "plt.plot(X, Y,'o-')\n",
    "annot_plot(N, city)"
   ]
  }
 ],
 "metadata": {
  "kernelspec": {
   "display_name": "jgc",
   "language": "python",
   "name": "python3"
  },
  "language_info": {
   "codemirror_mode": {
    "name": "ipython",
    "version": 3
   },
   "file_extension": ".py",
   "mimetype": "text/x-python",
   "name": "python",
   "nbconvert_exporter": "python",
   "pygments_lexer": "ipython3",
   "version": "3.8.15 (default, Nov 24 2022, 15:19:38) \n[GCC 11.2.0]"
  },
  "vscode": {
   "interpreter": {
    "hash": "22fd9ced51a29b23e385a331f5a21863726adaf9daddd969fb09ed432f269c3e"
   }
  }
 },
 "nbformat": 4,
 "nbformat_minor": 2
}
